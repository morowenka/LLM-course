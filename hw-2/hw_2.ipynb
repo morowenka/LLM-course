{
 "cells": [
  {
   "cell_type": "code",
   "execution_count": null,
   "metadata": {},
   "outputs": [],
   "source": [
    "!pip install -qU gigachain==0.2.6 gigachain_community==0.2.6 gigachain-cli==0.0.25 langgraph==0.2.19 langchain-community==0.2.16 langchain-openai==0.1.23  python-pptx==0.6.23 python-pptx-interface==0.0.12 python-dotenv==1.0.1 duckduckgo-search==6.2.4 faiss-cpu"
   ]
  },
  {
   "cell_type": "code",
   "execution_count": 1,
   "metadata": {},
   "outputs": [],
   "source": [
    "import getpass\n",
    "import os\n",
    "import requests\n",
    "import json\n",
    "import time\n",
    "\n",
    "from langchain.chat_models.gigachat import GigaChat\n",
    "from langchain.memory import ConversationBufferMemory, ConversationBufferWindowMemory, ConversationSummaryMemory, VectorStoreRetrieverMemory\n",
    "from langchain.chains import ConversationChain\n",
    "from langchain_community.embeddings import GigaChatEmbeddings\n",
    "\n",
    "from langchain.schema import HumanMessage, SystemMessage\n",
    "from langchain.tools import tool\n",
    "\n",
    "import faiss\n",
    "from langchain_community.docstore import InMemoryDocstore\n",
    "from langchain_community.vectorstores import FAISS\n",
    "\n",
    "from pydantic import BaseModel"
   ]
  },
  {
   "cell_type": "code",
   "execution_count": 2,
   "metadata": {},
   "outputs": [
    {
     "data": {
      "text/plain": [
       "True"
      ]
     },
     "execution_count": 2,
     "metadata": {},
     "output_type": "execute_result"
    }
   ],
   "source": [
    "from dotenv import load_dotenv\n",
    "# Load environment variables\n",
    "load_dotenv('.env')"
   ]
  },
  {
   "cell_type": "markdown",
   "metadata": {},
   "source": [
    "# 1. Memory"
   ]
  },
  {
   "cell_type": "markdown",
   "metadata": {},
   "source": [
    "Define your own class implementing a simple LLM-based chatbot. You need to use at least three memory types (langchain.memory), which are set as one argument in the ```init``` definition. If the memory type has any parameters, you also need to define them as arguments in the ```init``` definition. You also need to define a ```run``` method implementing the main conversation loop, and a ```print_memory``` method to print out what exactly the memory consists of."
   ]
  },
  {
   "cell_type": "code",
   "execution_count": 21,
   "metadata": {},
   "outputs": [],
   "source": [
    "class SimpleChatBot:\n",
    "    def __init__(self, llm, memory_type):\n",
    "        #TODO\n",
    "    def _respond(self, user_input):\n",
    "        #TODO\n",
    "    \n",
    "    def print_memory(self):\n",
    "        #TODO\n",
    "\n",
    "    def run(self):\n",
    "        print(\"This is a simple chat bot:\")\n",
    "        #TODO\n"
   ]
  },
  {
   "cell_type": "markdown",
   "metadata": {},
   "source": [
    "Now let's check how it works with each type of memory"
   ]
  },
  {
   "cell_type": "code",
   "execution_count": 22,
   "metadata": {},
   "outputs": [
    {
     "name": "stdout",
     "output_type": "stream",
     "text": [
      "This is a simple chat bot:\n",
      "Конечно! Екатеринбург - это большой город в России, расположенный на Урале. Это третий по величине город в стране после Москвы и Санкт-Петербурга. Он известен своей промышленностью, образованием и культурой. В городе много музеев, театров и других культурных учреждений. Также здесь есть несколько университетов, включая Уральский федеральный университет имени Б. Н. Ельцина. Кроме того, Екатеринбург является важным транспортным узлом, соединяющим Европу и Азию.\n",
      "В центре Екатеринбурга можно посетить множество достопримечательностей. Например, можно прогуляться по Плотинке - это исторический район города, где находится старинная плотина, построенная еще в XIX веке. Также стоит посетить Храм-на-Крови, который был построен на месте дома Ипатьева, где была убита царская семья Романовых. Еще одно интересное место - это Исторический сквер, где находятся памятники архитектуры и музеи. Кроме того, в центре города есть много магазинов, кафе и ресторанов, где можно отдохнуть и насладиться местной кухней.\n",
      "Да, в Екатеринбурге есть река под названием Исеть. Она протекает через центр города и является популярным местом для прогулок и отдыха.\n",
      "Из Москвы в Екатеринбург можно добраться на поезде, самолете или автомобиле. Поезда отправляются с Курского вокзала Москвы и прибывают на железнодорожный вокзал Екатеринбурга. Время в пути составляет около 20 часов. Самолеты летают из аэропорта Шереметьево до аэропорта Кольцово в Екатеринбурге. Время полета составляет около 2,5 часов. Автомобильная поездка займет примерно 18-20 часов.\n",
      "{'history': 'Екатеринбург - это большой город в России, известный своей промышленностью, образованием и культурой. В центре города можно посетить множество достопримечательностей, включая Плотинку, Храм-на-Крови и Исторический сквер. Также в центре есть много магазинов, кафе и ресторанов, где можно отдохнуть и насладиться местной кухней. В городе протекает река Исеть, которая является популярным местом для прогулок и отдыха. Доехать из Москвы в Екатеринбург можно на поезде, самолете или автомобиле. Поезда отправляются с Курского вокзала Москвы и прибывают на железнодорожный вокзал Екатеринбурга. Время в пути составляет около 20 часов. Самолеты летают из аэропорта Шереметьево до аэропорта Кольцово в Екатеринбурге. Время полета составляет около 2,5 часов. Автомобильная поездка займет примерно 18-20 часов.'}\n"
     ]
    }
   ],
   "source": [
    "giga_key = os.environ.get(\"SB_AUTH_DATA\")\n",
    "giga = GigaChat(credentials=giga_key, model=\"GigaChat\", timeout=30, verify_ssl_certs=False)\n",
    "chat = SimpleChatBot(giga, 'summary', memory_window_size=2)\n",
    "chat.run()\n",
    "chat.print_memory()"
   ]
  },
  {
   "cell_type": "code",
   "execution_count": null,
   "metadata": {},
   "outputs": [],
   "source": [
    "giga_key = os.environ.get(\"SB_AUTH_DATA\")\n",
    "giga = GigaChat(credentials=giga_key, model=\"GigaChat\", timeout=30, verify_ssl_certs=False)\n",
    "chat = SimpleChatBot(giga, 'window', memory_window_size=2)\n",
    "chat.run()\n",
    "chat.print_memory()"
   ]
  },
  {
   "cell_type": "code",
   "execution_count": null,
   "metadata": {},
   "outputs": [],
   "source": [
    "giga_key = os.environ.get(\"SB_AUTH_DATA\")\n",
    "giga = GigaChat(credentials=giga_key, model=\"GigaChat\", timeout=30, verify_ssl_certs=False)\n",
    "chat = SimpleChatBot(giga, 'simple', memory_window_size=2)\n",
    "chat.run()\n",
    "chat.print_memory()"
   ]
  },
  {
   "cell_type": "markdown",
   "metadata": {},
   "source": [
    "Please make a short report abount differences between used memory types"
   ]
  },
  {
   "cell_type": "markdown",
   "metadata": {},
   "source": [
    "Report:"
   ]
  },
  {
   "cell_type": "markdown",
   "metadata": {},
   "source": [
    "# 2. Using tools and agents"
   ]
  },
  {
   "cell_type": "markdown",
   "metadata": {},
   "source": [
    "## 2.1 Using tools and API"
   ]
  },
  {
   "cell_type": "markdown",
   "metadata": {},
   "source": [
    "Create your own tool based on the langchain.tools library to interact with a public OpenWeather API. This tool will receive data from the API and return it as a readable result for the user.\n",
    "\n",
    "\n",
    "OpenWeather API URL: https://api.openweathermap.org/data/2.5/weather?q={city}&appid={openweather_key}&units=metric \n",
    "\n",
    "[How to get OpenWeather API key](https://docs.google.com/document/d/1vbi8QKqMZqZoCReIzpmEB_2mHsrbmXPlyGngE3jeDDw/edit)\n"
   ]
  },
  {
   "cell_type": "code",
   "execution_count": 3,
   "metadata": {},
   "outputs": [],
   "source": [
    "from langchain.tools import Tool\n",
    "from langchain.agents import create_gigachat_functions_agent, AgentExecutor\n",
    "import requests\n",
    "\n",
    "openweather_key = os.environ.get(\"OPENWEATHER_API_KEY\")\n",
    "\n",
    "#TODO\n",
    "def get_wheather(city: str) -> str:\n",
    "    #TODO\n",
    "\n",
    "class OpenWeatherAPITool:\n",
    "    def __init__(self, llm, agent_function):\n",
    "        self.llm = llm\n",
    "        self.agent_function = agent_function\n",
    "\n",
    "    def run(self, user_input: str):\n",
    "        #TODO\n"
   ]
  },
  {
   "cell_type": "markdown",
   "metadata": {},
   "source": [
    "Let's check it"
   ]
  },
  {
   "cell_type": "code",
   "execution_count": 30,
   "metadata": {},
   "outputs": [
    {
     "data": {
      "text/plain": [
       "{'input': 'Какая погода сейчас в Ставрополе?',\n",
       " 'output': 'В Ставрополе сейчас ясно, температура 18.16°С.'}"
      ]
     },
     "execution_count": 30,
     "metadata": {},
     "output_type": "execute_result"
    }
   ],
   "source": [
    "\n",
    "giga_key = os.environ.get(\"SB_AUTH_DATA\")\n",
    "giga_pro = GigaChat(credentials=giga_key, model=\"GigaChat-Pro\", timeout=30, verify_ssl_certs=False)\n",
    "\n",
    "openwheatertool = OpenWeatherAPITool(giga_pro, get_wheather)\n",
    "user_input = \"Какая погода сейчас в Ставрополе?\"\n",
    "openwheatertool.run(user_input)"
   ]
  },
  {
   "cell_type": "markdown",
   "metadata": {},
   "source": [
    "## 2.2. Multi agents"
   ]
  },
  {
   "cell_type": "markdown",
   "metadata": {},
   "source": [
    "Create a multi-agent system where each agent is responsible for a specific task in the travel planning process. For example, one agent is responsible for searching for flights, another for booking hotels, and a third for finding the weather at the destination.\n",
    "\n",
    "Requirements:\n",
    "\n",
    "- Use three or more GigaChat-based agents to interact with each other.\n",
    "- The first agent is responsible for searching for flights (using ```get_url_booking_tickets``` function).\n",
    "- The second agent is responsible for booking hotels (using ```get_url_booking_hotels``` function).\n",
    "- The third agent collects weather information for the destination (using a real API, such as OpenWeather). You can use the function from the previous task (for simplify, here you can give a current weather, not a forecast for the specific date)"
   ]
  },
  {
   "cell_type": "code",
   "execution_count": 23,
   "metadata": {},
   "outputs": [],
   "source": [
    "from langchain.tools import Tool\n",
    "from langchain.agents import create_gigachat_functions_agent, AgentExecutor\n",
    "from langchain_core.prompts import ChatPromptTemplate, MessagesPlaceholder\n",
    "import requests\n",
    "import json\n",
    "import datetime\n",
    "from dateutil import parser\n",
    "\n",
    "openweather_key = os.environ.get(\"OPENWEATHER_API_KEY\")\n",
    "\n",
    "def get_geoid(city: str) -> str:\n",
    "    url_base = 'https://suggest-maps.yandex.ru/suggest-geo'\n",
    "    params = {'search_type': 'tune', 'v': '9', 'results': 1, 'lang': 'ry_RU', 'callback': 'json'}\n",
    "    params['part'] = city\n",
    "    r = requests.get(url_base, params=params)\n",
    "    if r.ok:\n",
    "        r_text = r.text\n",
    "        r_json = r_text[5: len(r_text)-1]\n",
    "        res_json = json.loads(r_json)\n",
    "        res = res_json['results'][0]['geoid']\n",
    "    else:\n",
    "        res = ''\n",
    "    return str(res)\n",
    "\n",
    "\n",
    "#TODO\n",
    "def get_url_booking_hotels(date_in_str: str, date_out_str: str, city: str) -> str:\n",
    "    #TODO\n",
    "    date_in = parser.parse(date_in_str)\n",
    "    date_out = parser.parse(date_out_str)\n",
    "    if date_in is None:\n",
    "        date_in = datetime.datetime.now()\n",
    "    if date_out is None:\n",
    "        date_out = datetime.datetime.now() + datetime.timedelta(days=1)\n",
    "    geoid = get_geoid(city)\n",
    "    url = 'https://travel.yandex.ru/hotels/search/?' \n",
    "    params = {'adults': '2', 'checkinDate': date_in.strftime('%Y-%m-%d'), 'checkoutDate': date_out.strftime('%Y-%m-%d'), 'childrenAges': '0', 'geoId': geoid}\n",
    "    for item in params:\n",
    "        url += '&' + item + '=' + params[item]\n",
    "    return f'Here is your URL for booking: {url} in {city} on {date_in_str} / {date_out_str}'\n",
    "\n",
    "\n",
    "#TODO\n",
    "def get_url_booking_tikets(city_from: str, city_to: str, date_in_str: str, date_out_str: str) -> str:\n",
    "    #TODO\n",
    "    date_in = parser.parse(date_in_str)\n",
    "    date_out = parser.parse(date_out_str)\n",
    "    if date_in is None:\n",
    "        date_in = datetime.datetime.now()\n",
    "    if date_out is None:\n",
    "        date_out = datetime.datetime.now() + datetime.timedelta(days=1)\n",
    "    fromid = get_geoid(city_from)\n",
    "    toid = get_geoid(city_to)\n",
    "    url = 'https://travel.yandex.ru/avia/search/result/?' \n",
    "    params = {'adults_seats': '2', 'fromId': 'c' + fromid, 'klass': 'economy', 'oneway': '2', 'return_date': date_out.strftime('%Y-%m-%d'), 'toId': 'c' + toid, 'when': date_in.strftime('%Y-%m-%d')}\n",
    "    for item in params:\n",
    "        url += '&' + item + '=' + params[item]\n",
    "    return f'Here is your url for tickets ordering: {url} from {city_from} to {city_to} on {date_in_str} / {date_out_str}'\n",
    "\n",
    "\n",
    "\n",
    "class MultiAgent:\n",
    "    def __init__(self, llm, agent_function_wheater, agent_function_hotels, agent_function_tickets):\n",
    "        self.llm = llm\n",
    "        self.agent_function_wheater = agent_function_wheater\n",
    "        self.agent_function_hotels = agent_function_hotels\n",
    "        self.agent_function_tickets = agent_function_tickets\n",
    "\n",
    "    def _create_agent(self, tools, system_prompt):\n",
    "        #TODO\n",
    "        return AgentExecutor\n",
    "\n",
    "    def run(self, user_input: str):\n",
    "        #TODO\n",
    "        return answer\n"
   ]
  },
  {
   "cell_type": "code",
   "execution_count": 24,
   "metadata": {},
   "outputs": [
    {
     "name": "stdout",
     "output_type": "stream",
     "text": [
      "Организуй поездку в Санкт-Петербурге на 10 дней с 15.11.2024 - отель, самолет, погода\n",
      "Вот Ваша ссылка для бронирования отеля: [https://travel.yandex.ru/hotels/search/?&adults=2&checkinDate=2024-11-15&checkoutDate=2024-11-24&childrenAges=0&geoId=2](https://travel.yandex.ru/hotels/search/?&adults=2&checkinDate=2024-11-15&checkoutDate=2024-11-24&childrenAges=0&geoId=2) в Санкт-Петербурге с 15 по 24 ноября 2024 года.\n",
      "Вот Ваша ссылка для заказа билетов: https://travel.yandex.ru/avia/search/result/?&adults_seats=2&fromId=c213&klass=economy&oneway=2&return_date=2024-11-24&toId=c2&when=2024-11-15 от Москвы до Санкт-Петербурга на 15.11.2024 / 24.11.2024.\n",
      "Погода в Санкт-Петербурге сейчас облачная с температурой 8.92°C.\n"
     ]
    }
   ],
   "source": [
    "giga_key = os.environ.get(\"SB_AUTH_DATA\")\n",
    "giga_pro = GigaChat(credentials=giga_key, model=\"GigaChat-Pro\", timeout=30, verify_ssl_certs=False)\n",
    "\n",
    "traveler = MultiAgent(giga_pro, get_wheather, get_url_booking_hotels, get_url_booking_tikets)\n",
    "user_input = \"Организуй поездку в Санкт-Петербурге на 10 дней с 15.11.2024 - отель, самолет, погода\"\n",
    "answer = traveler.run(user_input)\n",
    "print(answer)"
   ]
  }
 ],
 "metadata": {
  "kernelspec": {
   "display_name": ".venv",
   "language": "python",
   "name": "python3"
  },
  "language_info": {
   "codemirror_mode": {
    "name": "ipython",
    "version": 3
   },
   "file_extension": ".py",
   "mimetype": "text/x-python",
   "name": "python",
   "nbconvert_exporter": "python",
   "pygments_lexer": "ipython3",
   "version": "3.11.9"
  }
 },
 "nbformat": 4,
 "nbformat_minor": 2
}
