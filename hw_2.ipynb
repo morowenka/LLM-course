{
 "cells": [
  {
   "cell_type": "code",
   "execution_count": 26,
   "metadata": {},
   "outputs": [],
   "source": [
    "import getpass\n",
    "import os\n",
    "import requests\n",
    "import json\n",
    "import time\n",
    "\n",
    "from langchain.chat_models.gigachat import GigaChat\n",
    "from langchain.memory import (\n",
    "    ConversationBufferMemory,\n",
    "    ConversationBufferWindowMemory,\n",
    "    ConversationSummaryMemory,\n",
    "    VectorStoreRetrieverMemory,\n",
    "    ConversationKGMemory\n",
    ")\n",
    "from langchain.chains import ConversationChain\n",
    "from langchain_community.embeddings import GigaChatEmbeddings\n",
    "from langchain_core.prompts.prompt import PromptTemplate\n",
    "\n",
    "from langchain.schema import HumanMessage, SystemMessage, AIMessage\n",
    "from langchain.tools import tool\n",
    "\n",
    "import faiss\n",
    "from langchain_community.docstore import InMemoryDocstore\n",
    "from langchain_community.vectorstores import FAISS\n",
    "\n",
    "from pydantic import BaseModel"
   ]
  },
  {
   "cell_type": "code",
   "execution_count": 2,
   "metadata": {},
   "outputs": [
    {
     "data": {
      "text/plain": [
       "True"
      ]
     },
     "execution_count": 2,
     "metadata": {},
     "output_type": "execute_result"
    }
   ],
   "source": [
    "from dotenv import load_dotenv\n",
    "# Load environment variables\n",
    "load_dotenv('.env')"
   ]
  },
  {
   "cell_type": "markdown",
   "metadata": {},
   "source": [
    "# 1. Memory"
   ]
  },
  {
   "cell_type": "markdown",
   "metadata": {},
   "source": [
    "Define your own class implementing a simple LLM-based chatbot. You need to use at least three memory types (langchain.memory), which are set as one argument in the ```init``` definition. If the memory type has any parameters, you also need to define them as arguments in the ```init``` definition. You also need to define a ```run``` method implementing the main conversation loop, and a ```print_memory``` method to print out what exactly the memory consists of."
   ]
  },
  {
   "cell_type": "code",
   "execution_count": 3,
   "metadata": {},
   "outputs": [],
   "source": [
    "class SimpleChatBot:\n",
    "    def __init__(self, llm, memory_type, **memory_params):\n",
    "        self.llm = llm\n",
    "        match memory_type:\n",
    "            case 'buffer':\n",
    "                self.memory = ConversationBufferMemory(**memory_params)\n",
    "            case 'summary':\n",
    "                self.memory = ConversationSummaryMemory(llm=llm, **memory_params)\n",
    "            case 'window':\n",
    "                self.memory = ConversationBufferWindowMemory(llm=llm, **memory_params)\n",
    "            case _:\n",
    "                raise ValueError(f\"Memory type '{memory_type}' is not supported.\")\n",
    "\n",
    "    def _respond(self, user_input):\n",
    "        context = self.memory.load_memory_variables({})\n",
    "        response = self.llm.predict(\n",
    "            text=user_input,\n",
    "            context=context\n",
    "        )\n",
    "        self.memory.save_context({\"input\": user_input}, {\"output\": response})\n",
    "        return response\n",
    "\n",
    "    \n",
    "    def print_memory(self):\n",
    "        print(self.memory.load_memory_variables({}))\n",
    "\n",
    "\n",
    "    def run(self):\n",
    "        print(\"This is a simple chat bot:\")\n",
    "        city = str(input(\"Город: \"))\n",
    "        user_input = PromptTemplate(template='Расскажи в одном предложении про город {city}',\n",
    "                                    input_variables=[\"city\"],\n",
    "                                    input_types={\"city\": str})\n",
    "        response = self._respond(user_input.format(city=city))\n",
    "        print(response)\n"
   ]
  },
  {
   "cell_type": "markdown",
   "metadata": {},
   "source": [
    "Now let's check how it works with each type of memory"
   ]
  },
  {
   "cell_type": "code",
   "execution_count": 4,
   "metadata": {},
   "outputs": [
    {
     "name": "stdout",
     "output_type": "stream",
     "text": [
      "This is a simple chat bot:\n"
     ]
    },
    {
     "name": "stderr",
     "output_type": "stream",
     "text": [
      "/var/folders/t3/409cw_p51s3_b296bytqrv3x8ch15l/T/ipykernel_17733/2987679950.py:16: LangChainDeprecationWarning: The method `BaseChatModel.predict` was deprecated in langchain-core 0.1.7 and will be removed in 1.0. Use invoke instead.\n",
      "  response = self.llm.predict(\n"
     ]
    },
    {
     "name": "stdout",
     "output_type": "stream",
     "text": [
      "Москва — столица России, крупнейший город страны и один из самых крупных городов мира.\n",
      "{'history': 'AI кратко описывает Москву как столицу России и один из крупнейших городов мира.'}\n"
     ]
    }
   ],
   "source": [
    "giga_key = os.environ.get(\"SB_AUTH_DATA\")\n",
    "giga = GigaChat(credentials=giga_key, model=\"GigaChat\", timeout=30, verify_ssl_certs=False)\n",
    "chat = SimpleChatBot(giga, 'summary')\n",
    "chat.run()\n",
    "chat.print_memory()"
   ]
  },
  {
   "cell_type": "code",
   "execution_count": 5,
   "metadata": {},
   "outputs": [
    {
     "name": "stdout",
     "output_type": "stream",
     "text": [
      "This is a simple chat bot:\n",
      "Санкт-Петербург — это второй по величине город в России, известный своей богатой историей, архитектурой и ролью в культурной жизни страны.\n",
      "{'history': 'Human: Расскажи в одном предложении про город Санкт-Петербург\\nAI: Санкт-Петербург — это второй по величине город в России, известный своей богатой историей, архитектурой и ролью в культурной жизни страны.'}\n"
     ]
    }
   ],
   "source": [
    "giga_key = os.environ.get(\"SB_AUTH_DATA\")\n",
    "giga = GigaChat(credentials=giga_key, model=\"GigaChat\", timeout=30, verify_ssl_certs=False)\n",
    "chat = SimpleChatBot(giga, 'buffer')\n",
    "chat.run()\n",
    "chat.print_memory()"
   ]
  },
  {
   "cell_type": "code",
   "execution_count": 6,
   "metadata": {},
   "outputs": [
    {
     "name": "stdout",
     "output_type": "stream",
     "text": [
      "This is a simple chat bot:\n",
      "Санкт-Петербург — это второй по величине город в России, известный своей богатой историей, архитектурой и ролью в культурной жизни страны.\n",
      "{'history': 'Human: Расскажи в одном предложении про город Санкт-Петербург\\nAI: Санкт-Петербург — это второй по величине город в России, известный своей богатой историей, архитектурой и ролью в культурной жизни страны.'}\n"
     ]
    }
   ],
   "source": [
    "giga_key = os.environ.get(\"SB_AUTH_DATA\")\n",
    "giga = GigaChat(credentials=giga_key, model=\"GigaChat\", timeout=30, verify_ssl_certs=False)\n",
    "chat = SimpleChatBot(giga, 'window', k=2)\n",
    "chat.run()\n",
    "chat.print_memory()"
   ]
  },
  {
   "cell_type": "code",
   "execution_count": 7,
   "metadata": {},
   "outputs": [
    {
     "name": "stdout",
     "output_type": "stream",
     "text": [
      "This is a simple chat bot:\n",
      "Санкт-Петербург — это второй по величине город в России, известный своей богатой историей, архитектурой и ролью в культурной жизни страны.\n",
      "{'history': 'Human: Расскажи в одном предложении про город Санкт-Петербург\\nAI: Санкт-Петербург — это второй по величине город в России, известный своей богатой историей, архитектурой и ролью в культурной жизни страны.\\nHuman: Расскажи в одном предложении про город Санкт-Петербург\\nAI: Санкт-Петербург — это второй по величине город в России, известный своей богатой историей, архитектурой и ролью в культурной жизни страны.'}\n"
     ]
    }
   ],
   "source": [
    "chat.run()\n",
    "chat.print_memory()"
   ]
  },
  {
   "cell_type": "code",
   "execution_count": 8,
   "metadata": {},
   "outputs": [
    {
     "name": "stdout",
     "output_type": "stream",
     "text": [
      "This is a simple chat bot:\n",
      "Санкт-Петербург — это второй по величине город в России, известный своей богатой историей, архитектурой и ролью в культурной жизни страны.\n",
      "{'history': 'Human: Расскажи в одном предложении про город Санкт-Петербург\\nAI: Санкт-Петербург — это второй по величине город в России, известный своей богатой историей, архитектурой и ролью в культурной жизни страны.\\nHuman: Расскажи в одном предложении про город Санкт-Петербург\\nAI: Санкт-Петербург — это второй по величине город в России, известный своей богатой историей, архитектурой и ролью в культурной жизни страны.'}\n"
     ]
    }
   ],
   "source": [
    "chat.run()\n",
    "chat.print_memory()"
   ]
  },
  {
   "cell_type": "markdown",
   "metadata": {},
   "source": [
    "Please make a short report abount differences between used memory types"
   ]
  },
  {
   "cell_type": "markdown",
   "metadata": {},
   "source": [
    "Report:\n",
    "\n",
    "- Buffer:\n",
    "    - Сохраняет весь разговор в линейной последовательности.\n",
    "    -   Преимущество: Полный доступ к предыдущим сообщениям.\n",
    "    -   Недостаток: Память разрастается с увеличением диалога, что может снизить производительность.\n",
    "\n",
    "- Summary:\n",
    "    - Обобщает предыдущие сообщения, создавая краткий обзор беседы.\n",
    "    - Преимущество: Экономит память и улучшает контекстное восприятие за счет сокращенных данных.\n",
    "    - Недостаток: Возможны потери деталей, которые могут оказаться важными.\n",
    "\n",
    "- Window:\n",
    "    - Хранит только определенное количество последних сообщений (окно).\n",
    "    - Преимущество: Легкая и быстрая работа за счет ограничения объема данных.\n",
    "    - Недостаток: Нет доступа к старым частям разговора, которые выходят за пределы окна.\n"
   ]
  },
  {
   "cell_type": "markdown",
   "metadata": {},
   "source": [
    "# 2. Using tools and agents"
   ]
  },
  {
   "cell_type": "markdown",
   "metadata": {},
   "source": [
    "## 2.1 Using tools and API"
   ]
  },
  {
   "cell_type": "markdown",
   "metadata": {},
   "source": [
    "Create your own tool based on the langchain.tools library to interact with a public OpenWeather API. This tool will receive data from the API and return it as a readable result for the user.\n",
    "\n",
    "\n",
    "OpenWeather API URL: https://api.openweathermap.org/data/2.5/weather?q={city}&appid={openweather_key}&units=metric \n",
    "\n",
    "[How to get OpenWeather API key](https://docs.google.com/document/d/1vbi8QKqMZqZoCReIzpmEB_2mHsrbmXPlyGngE3jeDDw/edit)\n"
   ]
  },
  {
   "cell_type": "code",
   "execution_count": 9,
   "metadata": {},
   "outputs": [],
   "source": [
    "from langchain_core.pydantic_v1 import BaseModel, Field\n",
    "from typing import List, Optional\n",
    "\n",
    "from langchain.tools import tool\n",
    "from langchain.agents import AgentExecutor, create_gigachat_functions_agent\n",
    "from langchain.chat_models.gigachat import GigaChat\n",
    "\n",
    "\n",
    "openweather_key = os.getenv(\"OPENWEATHER_API_KEY\")\n",
    "\n",
    "class WeatherResult(BaseModel):\n",
    "    city: str = Field(description=\"Название города\")\n",
    "    temperature: float = Field(description=\"Температура в указанном городе в градусах Цельсия\")\n",
    "    feels_like: float = Field(description=\"Температура, как она ощущается в градусах Цельсия\")\n",
    "    weather: str = Field(description=\"Краткое описание текущей погоды в городе\")\n",
    "    wind: float = Field(description=\"Скорость ветра в метрах в секунду\")\n",
    "    message: str = Field(description=\"Сообщение о статусе операции\")\n",
    "\n",
    "few_shot_examples = [\n",
    "    {\n",
    "        \"request\": \"Какая погода сейчас в Ставрополе?\",\n",
    "        \"params\": {\"city\": \"Ставрополь\"},\n",
    "    },\n",
    "    {\n",
    "        \"request\": \"Организуй поездку из Москвы в Санкт-Петербург на 10 дней с 15.11.2024 - отель, самолет, погода\",\n",
    "        \"params\": {\"city\": \"Санкт-Петербург\"},\n",
    "    },\n",
    "    {\n",
    "        \"request\": \"Организуй поездку в Санкт-Петербурге на 10 дней с 15.11.2024 - отель, самолет, погода\",\n",
    "        \"params\": {\"city\": \"Санкт-Петербург\"},\n",
    "    }\n",
    "]\n",
    "\n",
    "@tool(few_shot_examples=few_shot_examples)\n",
    "def get_weather(\n",
    "    city: str = Field(description=\"Название города для получения погоды\")\n",
    ") -> WeatherResult:\n",
    "    \"\"\"\n",
    "    Получаем текущие погодные данные для заданного города через OpenWeather API и возвращаем результат.\n",
    "    \"\"\"\n",
    "    base_url = f\"https://api.openweathermap.org/data/2.5/weather?q={city}&appid={openweather_key}&units=metric\"\n",
    "    try:\n",
    "        response = requests.get(base_url)\n",
    "        response.raise_for_status()\n",
    "        data = response.json()\n",
    "        \n",
    "        city_name = data['name']\n",
    "        temperature = data['main']['temp']\n",
    "        feels_like = data['main']['feels_like']\n",
    "        weather_description = data['weather'][0]['description']\n",
    "        wind_speed = data['wind']['speed']\n",
    "        \n",
    "        return WeatherResult(\n",
    "            city=city_name,\n",
    "            temperature=temperature,\n",
    "            feels_like=feels_like,\n",
    "            weather=weather_description,\n",
    "            wind=wind_speed,\n",
    "            message=\"Successfull\"\n",
    "        )\n",
    "    except requests.exceptions.RequestException as e:\n",
    "        return WeatherResult(city=city, temperature=0, feels_like=0, weather=\"\", wind=0, message=f\"Ошибка при выполнении запроса: {str(e)}\")\n",
    "    except KeyError:\n",
    "        return WeatherResult(city=city, temperature=0, feels_like=0, weather=\"\", wind=0, message=\"Ошибка в данных ответа сервера.\")\n",
    "\n",
    "\n",
    "class OpenWeatherAPITool:\n",
    "    def __init__(self, llm, agent_function):\n",
    "        self.llm = llm\n",
    "        self.agent_function = agent_function\n",
    "        self.tools = [agent_function]\n",
    "        self.agent = create_gigachat_functions_agent(llm, self.tools)\n",
    "        self.agent_executor = AgentExecutor(\n",
    "            agent=self.agent,\n",
    "            tools=self.tools,\n",
    "            verbose=True,\n",
    "        )\n",
    "\n",
    "\n",
    "    def run(self, user_input: str):\n",
    "        return self.agent_executor.invoke({\"input\": user_input})"
   ]
  },
  {
   "cell_type": "markdown",
   "metadata": {},
   "source": [
    "Let's check it"
   ]
  },
  {
   "cell_type": "code",
   "execution_count": 10,
   "metadata": {},
   "outputs": [
    {
     "name": "stdout",
     "output_type": "stream",
     "text": [
      "\n",
      "\n",
      "\u001b[1m> Entering new AgentExecutor chain...\u001b[0m\n",
      "\u001b[32;1m\u001b[1;3m\n",
      "Invoking: `get_weather` with `{'city': 'Санкт-Петербург'}`\n",
      "\n",
      "\n",
      "\u001b[0m\u001b[36;1m\u001b[1;3mcity='Saint Petersburg' temperature=8.08 feels_like=6.21 weather='clear sky' wind=3.0 message='Successfull'\u001b[0m\u001b[32;1m\u001b[1;3mСейчас в Санкт-Петербурге ясная погода с температурой около 8 градусов Цельсия.\u001b[0m\n",
      "\n",
      "\u001b[1m> Finished chain.\u001b[0m\n"
     ]
    },
    {
     "data": {
      "text/plain": [
       "{'input': 'Какая погода сейчас в Санкт-Петербурге?',\n",
       " 'output': 'Сейчас в Санкт-Петербурге ясная погода с температурой около 8 градусов Цельсия.'}"
      ]
     },
     "execution_count": 10,
     "metadata": {},
     "output_type": "execute_result"
    }
   ],
   "source": [
    "giga_key = os.environ.get(\"SB_AUTH_DATA\")\n",
    "giga_pro = GigaChat(credentials=giga_key, model=\"GigaChat\", timeout=30, verify_ssl_certs=False)\n",
    "\n",
    "openwheatertool = OpenWeatherAPITool(giga_pro, get_weather)\n",
    "user_input = \"Какая погода сейчас в Санкт-Петербурге?\"\n",
    "openwheatertool.run(user_input)"
   ]
  },
  {
   "cell_type": "markdown",
   "metadata": {},
   "source": [
    "## 2.2. Multi agents"
   ]
  },
  {
   "cell_type": "markdown",
   "metadata": {},
   "source": [
    "Create a multi-agent system where each agent is responsible for a specific task in the travel planning process. For example, one agent is responsible for searching for flights, another for booking hotels, and a third for finding the weather at the destination.\n",
    "\n",
    "Requirements:\n",
    "\n",
    "- Use three or more GigaChat-based agents to interact with each other.\n",
    "- The first agent is responsible for searching for flights (using ```get_url_booking_tickets``` function).\n",
    "- The second agent is responsible for booking hotels (using ```get_url_booking_hotels``` function).\n",
    "- The third agent collects weather information for the destination (using a real API, such as OpenWeather). You can use the function from the previous task (for simplify, here you can give a current weather, not a forecast for the specific date)"
   ]
  },
  {
   "cell_type": "code",
   "execution_count": 67,
   "metadata": {},
   "outputs": [],
   "source": [
    "from langchain.tools import Tool\n",
    "from langchain.agents import create_gigachat_functions_agent, AgentExecutor\n",
    "from langchain_core.prompts import ChatPromptTemplate, MessagesPlaceholder, SystemMessagePromptTemplate, HumanMessagePromptTemplate\n",
    "import requests\n",
    "import json\n",
    "from datetime import datetime, timedelta\n",
    "from dateutil import parser\n",
    "\n",
    "openweather_key = os.environ.get(\"OPENWEATHER_API_KEY\")\n",
    "\n",
    "def get_geoid(city: str) -> str:\n",
    "    url_base = 'https://suggest-maps.yandex.ru/suggest-geo'\n",
    "    params = {\n",
    "        'search_type': 'tune',\n",
    "        'v': '9',\n",
    "        'results': 1,\n",
    "        'lang': 'ry_RU',\n",
    "        'callback': 'json',\n",
    "        'part': city,\n",
    "    }\n",
    "    r = requests.get(url_base, params=params)\n",
    "    if r.ok:\n",
    "        r_text = r.text\n",
    "        r_json = r_text[5:-1]\n",
    "        res_json = json.loads(r_json)\n",
    "        res = res_json['results'][0]['geoid']\n",
    "    else:\n",
    "        res = ''\n",
    "    return str(res)\n",
    "\n",
    "\n",
    "class HotelResult(BaseModel):\n",
    "    city: str = Field(description=\"Город для бронирования отеля\")\n",
    "    checkin_date: str = Field(description=\"Дата заезда в формате yyyy-mm-dd\")\n",
    "    checkout_date: str = Field(description=\"Дата выезда в формате yyyy-mm-dd\")\n",
    "    url: str = Field(description=\"Ссылка на поиск отелей\")\n",
    "    message: str = Field(description=\"Сообщение о статусе операции\")\n",
    "    \n",
    "few_shot_examples_hotel = [\n",
    "    {\n",
    "        \"request\": \"Организуй поездку в Санкт-Петербурге на 10 дней с 15.11.2024 - отель, самолет, погода\",\n",
    "        \"params\": {\"city\": \"Санкт-Петербург\", \"date_in_str\": \"2024-11-15\", \"date_out_str\": \"2024-11-25\"}\n",
    "    },\n",
    "    {\n",
    "        \"request\": \"Нужен отель в Москве с 15.11.2024, на 3 дня\",\n",
    "        \"params\": {\"city\": \"Москва\", \"date_in_str\": \"2024-11-15\", \"date_out_str\": \"2024-11-18\"}\n",
    "    },\n",
    "    {\n",
    "        \"request\": \"Организуй поездку из Москвы в Санкт-Петербург на 10 дней с 15.11.2024 - отель, самолет, погода\",\n",
    "        \"params\": {\"city\": \"Санкт-Петербург\", \"date_in_str\": \"2024-11-15\", \"date_out_str\": \"2024-11-25\"}\n",
    "    }\n",
    "]\n",
    "\n",
    "@tool(few_shot_examples=few_shot_examples_hotel)\n",
    "def get_url_booking_hotels(date_in_str: str, date_out_str: str, city: str) -> HotelResult:\n",
    "    \"\"\"Возврат ссылки для бронирования отелей в заданных датах и городе.\"\"\"\n",
    "    try:\n",
    "        date_in = parser.parse(date_in_str)\n",
    "        date_out = parser.parse(date_out_str)\n",
    "        geoid = get_geoid(city)\n",
    "        url = 'https://travel.yandex.ru/hotels/search/?'\n",
    "        params = {\n",
    "            'adults': '2',\n",
    "            'checkinDate': date_in.strftime('%Y-%m-%d'),\n",
    "            'checkoutDate': date_out.strftime('%Y-%m-%d'),\n",
    "            'childrenAges': '0',\n",
    "            'geoId': geoid\n",
    "        }\n",
    "        for item in params:\n",
    "            url += f'&{item}={params[item]}'\n",
    "\n",
    "        return HotelResult(\n",
    "            city=city,\n",
    "            checkin_date=date_in_str,\n",
    "            checkout_date=date_out_str,\n",
    "            url=f\"Booking link for hotels in {city}: {url}\",\n",
    "            message=\"Hotel booking search successful\"\n",
    "        )\n",
    "    except Exception as e:\n",
    "        return HotelResult(city=city, checkin_date=\"\", checkout_date=\"\", url=\"\", message=f\"Error: {str(e)}\")\n",
    "\n",
    "\n",
    "class FlightResult(BaseModel):\n",
    "    city_from: str = Field(description=\"Город отправления\")\n",
    "    city_to: str = Field(description=\"Город назначения\")\n",
    "    departure_date: str = Field(description=\"Дата вылета в формате yyyy-mm-dd\")\n",
    "    return_date: str = Field(description=\"Дата обратного рейса в формате yyyy-mm-dd\")\n",
    "    url: str = Field(description=\"Ссылка на поиск билетов\")\n",
    "    message: str = Field(description=\"Сообщение о статусе операции\")\n",
    "\n",
    "few_shot_flight_examples = [\n",
    "    {\n",
    "        \"request\": \"Организуй поездку в Санкт-Петербурге на 10 дней с 15.11.2024 - отель, самолет, погода\",\n",
    "        \"params\": {\"city_from\": \"Санкт-Петербург\", \"city_to\": \"Санкт-Петербург\", \"date_in_str\": \"2024-11-15\", \"date_out_str\": \"2024-11-25\"}\n",
    "    },\n",
    "    {\n",
    "        \"request\": \"Организуй поездку из Москвы в Санкт-Петербург на 10 дней с 15.11.2024 - отель, самолет, погода\",\n",
    "        \"params\": {\"city_from\": \"Москва\", \"city_to\": \"Санкт-Петербург\", \"date_in_str\": \"2024-11-15\", \"date_out_str\": \"2024-11-25\"}\n",
    "    }\n",
    "]\n",
    "\n",
    "@tool(few_shot_examples=few_shot_flight_examples)\n",
    "def get_url_booking_tikets(city_from: str, city_to: str, date_in_str: str, date_out_str: str) -> FlightResult:\n",
    "    \"\"\"Возврат ссылки для бронирования билетов в указанные даты и города.\"\"\"\n",
    "    try:\n",
    "        date_in = parser.parse(date_in_str)\n",
    "        date_out = parser.parse(date_out_str)\n",
    "        fromid = get_geoid(city_from)\n",
    "        toid = get_geoid(city_to)\n",
    "\n",
    "        url = 'https://travel.yandex.ru/avia/search/result/?'\n",
    "        params = {\n",
    "            'adults_seats': '2',\n",
    "            'fromId': f'c{fromid}',\n",
    "            'klass': 'economy',\n",
    "            'oneway': '2',\n",
    "            'return_date': date_out.strftime('%Y-%m-%d'),\n",
    "            'toId': f'c{toid}',\n",
    "            'when': date_in.strftime('%Y-%m-%d'),\n",
    "        }\n",
    "\n",
    "        for item, value in params.items():\n",
    "            url += f'&{item}={value}'\n",
    "\n",
    "        return FlightResult(\n",
    "            city_from=city_from,\n",
    "            city_to=city_to,\n",
    "            departure_date=date_in_str,\n",
    "            return_date=date_out_str,\n",
    "            url=f\"Flight booking link from {city_from} to {city_to}: {url}\",\n",
    "            message=\"Flight booking search successful\"\n",
    "        )\n",
    "    except Exception as e:\n",
    "        return FlightResult(city_from=city_from, city_to=city_to, departure_date=\"\", return_date=\"\", url=\"\", message=f\"Error: {str(e)}\")\n",
    "\n",
    "\n",
    "class MultiAgent:\n",
    "    def __init__(self, llm, agent_function_weather, agent_function_hotels, agent_function_tickets):\n",
    "        self.llm = llm\n",
    "        self.agent_weather = self._create_agent(tools=[agent_function_weather],\n",
    "                                                system_prompt=\"You are a weather assistant, your task is to retrieve the weather of a given city using the get_weather tool.\")\n",
    "        self.agent_hotels = self._create_agent(tools=[agent_function_hotels],\n",
    "                                               system_prompt=\"You are a hotel assistant. You are responsible for finding hotels using the get_url_booking_hotels tool.\")\n",
    "        self.agent_tickets = self._create_agent(tools=[agent_function_tickets],\n",
    "                                                system_prompt=\"You are a flight assistant, your task is to search for flights and use the get_url_booking_tickets tool.\")\n",
    "        self.postprocessing_template = PromptTemplate.from_template(\"\"\"\n",
    "        У тебя есть информация по:\n",
    "        - погоде: {weather}\n",
    "        - отелям: {hotels}\n",
    "        - билетам: {tickets}\n",
    "        Приведи ее в человекочитаемый формат (списком, без \\символа tab) и выведи. Не теряй ссылки и даты.\n",
    "        \"\"\")\n",
    "\n",
    "    def _create_agent(self, tools, system_prompt):\n",
    "        prompt = ChatPromptTemplate.from_messages([\n",
    "            SystemMessage(system_prompt),\n",
    "            MessagesPlaceholder(variable_name=\"messages\"),\n",
    "            MessagesPlaceholder(variable_name=\"agent_scratchpad\"),\n",
    "        ])\n",
    "\n",
    "        agent = create_gigachat_functions_agent(self.llm, tools, prompt)\n",
    "        return AgentExecutor(agent=agent, tools=tools, verbose=True)\n",
    "\n",
    "    def run(self, user_input: str):\n",
    "        weather = self.agent_weather.invoke({\"messages\": [HumanMessage(content=f\"Определи погоду в городе из запроса: {user_input}\")]})\n",
    "        hotels = self.agent_hotels.invoke({\"messages\": [HumanMessage(content=f\"Найди билеты в отель в городе назначения из запроса: {user_input}\")]})\n",
    "        tickets = self.agent_tickets.invoke({\"messages\": [HumanMessage(content=f\"Найди авиабилеты из города отправления в город назначения из запроса: {user_input}\")]})\n",
    "        info_dict = {\n",
    "            \"weather\": weather[\"output\"],\n",
    "            \"hotels\": hotels[\"output\"],\n",
    "            \"tickets\": tickets[\"output\"]\n",
    "        }\n",
    "        postprocessing_prompt = self.postprocessing_template.format_prompt(**info_dict)\n",
    "        return self.llm.predict(postprocessing_prompt.to_string())"
   ]
  },
  {
   "cell_type": "code",
   "execution_count": 68,
   "metadata": {},
   "outputs": [
    {
     "name": "stdout",
     "output_type": "stream",
     "text": [
      "\n",
      "\n",
      "\u001b[1m> Entering new AgentExecutor chain...\u001b[0m\n",
      "\u001b[32;1m\u001b[1;3m\n",
      "Invoking: `get_weather` with `{'city': 'Москва'}`\n",
      "\n",
      "\n",
      "\u001b[0m\u001b[36;1m\u001b[1;3mcity='Moscow' temperature=9.41 feels_like=8.0 weather='broken clouds' wind=2.68 message='Successfull'\u001b[0m\u001b[32;1m\u001b[1;3mВ Москве, куда вы направляетесь, температура будет около 9 градусов, с переменной облачностью и слабым ветром.\u001b[0m\n",
      "\n",
      "\u001b[1m> Finished chain.\u001b[0m\n",
      "\n",
      "\n",
      "\u001b[1m> Entering new AgentExecutor chain...\u001b[0m\n",
      "\u001b[32;1m\u001b[1;3m\n",
      "Invoking: `get_url_booking_hotels` with `{'city': 'Москва', 'date_in_str': '2024-11-15', 'date_out_str': '2024-11-25'}`\n",
      "\n",
      "\n",
      "\u001b[0m\u001b[36;1m\u001b[1;3mcity='Москва' checkin_date='2024-11-15' checkout_date='2024-11-25' url='Booking link for hotels in Москва: https://travel.yandex.ru/hotels/search/?&adults=2&checkinDate=2024-11-15&checkoutDate=2024-11-25&childrenAges=0&geoId=213' message='Hotel booking search successful'\u001b[0m\u001b[32;1m\u001b[1;3mВаша ссылка для бронирования отеля в Москве с 15 по 25 ноября 2024 года: https://travel.yandex.ru/hotels/search/?&adults=2&checkinDate=2024-11-15&checkoutDate=2024-11-25&childrenAges=0&geoId=213.\u001b[0m\n",
      "\n",
      "\u001b[1m> Finished chain.\u001b[0m\n",
      "\n",
      "\n",
      "\u001b[1m> Entering new AgentExecutor chain...\u001b[0m\n",
      "\u001b[32;1m\u001b[1;3m\n",
      "Invoking: `get_url_booking_tikets` with `{'city_from': 'Санкт-Петербург', 'city_to': 'Москва', 'date_in_str': '2024-11-15', 'date_out_str': '2024-11-25'}`\n",
      "\n",
      "\n",
      "\u001b[0m\u001b[36;1m\u001b[1;3mcity_from='Санкт-Петербург' city_to='Москва' departure_date='2024-11-15' return_date='2024-11-25' url='Flight booking link from Санкт-Петербург to Москва: https://travel.yandex.ru/avia/search/result/?&adults_seats=2&fromId=c2&klass=economy&oneway=2&return_date=2024-11-25&toId=c213&when=2024-11-15' message='Flight booking search successful'\u001b[0m\u001b[32;1m\u001b[1;3mПо вашему запросу найдены следующие авиабилеты: Санкт-Петербург - Москва на 10 дней с 15.11.2024 по 25.11.2024. Вот ссылка для бронирования: https://travel.yandex.ru/avia/search/result/?&adults_seats=2&fromId=c2&klass=economy&oneway=2&return_date=2024-11-25&toId=c213&when=2024-11-15.\u001b[0m\n",
      "\n",
      "\u001b[1m> Finished chain.\u001b[0m\n",
      "- Погода в Москве с 15 по 25 ноября 2024 года:\n",
      "          - Температура будет около 9 градусов.\n",
      "          - Облачность переменная.\n",
      "          - Слабый ветер.\n",
      "\n",
      "        - Отели в Москве с 15 по 25 ноября 2024 года:\n",
      "          - Ссылка для бронирования: https://travel.yandex.ru/hotels/search/?&adults=2&checkinDate=2024-11-15&checkoutDate=2024-11-25&childrenAges=0&geoId=213.\n",
      "\n",
      "        - Авиабилеты Санкт-Петербург - Москва с 15 по 25 ноября 2024 года:\n",
      "          - Ссылка для бронирования: https://travel.yandex.ru/avia/search/result/?&adults_seats=2&fromId=c2&klass=economy&oneway=2&return_date=2024-11-25&toId=c213&when=2024-11-15.\n"
     ]
    }
   ],
   "source": [
    "giga_key = os.environ.get(\"SB_AUTH_DATA\")\n",
    "giga_pro = GigaChat(credentials=giga_key, model=\"GigaChat\", timeout=30, verify_ssl_certs=False)\n",
    "\n",
    "traveler = MultiAgent(giga_pro, get_weather, get_url_booking_hotels, get_url_booking_tikets)\n",
    "answer = traveler.run(\"Организуй поездку из Санкт-петербурга в Москву на 10 дней с 15.11.2024.\")\n",
    "print(answer)"
   ]
  },
  {
   "cell_type": "code",
   "execution_count": 71,
   "metadata": {},
   "outputs": [
    {
     "name": "stdout",
     "output_type": "stream",
     "text": [
      "- Погода в Москве с 15 по 25 ноября 2024 года:\n",
      "          - Температура будет около 9 градусов.\n",
      "          - Облачность переменная.\n",
      "          - Слабый ветер.\n",
      "\n",
      "        - Отели в Москве с 15 по 25 ноября 2024 года:\n",
      "          - Ссылка для бронирования: https://travel.yandex.ru/hotels/search/?&adults=2&checkinDate=2024-11-15&checkoutDate=2024-11-25&childrenAges=0&geoId=213.\n",
      "\n",
      "        - Авиабилеты Санкт-Петербург - Москва с 15 по 25 ноября 2024 года:\n",
      "          - Ссылка для бронирования: https://travel.yandex.ru/avia/search/result/?&adults_seats=2&fromId=c2&klass=economy&oneway=2&return_date=2024-11-25&toId=c213&when=2024-11-15.\n"
     ]
    }
   ],
   "source": [
    "print(answer)"
   ]
  },
  {
   "cell_type": "code",
   "execution_count": null,
   "metadata": {},
   "outputs": [],
   "source": []
  }
 ],
 "metadata": {
  "kernelspec": {
   "display_name": ".venv",
   "language": "python",
   "name": "python3"
  },
  "language_info": {
   "codemirror_mode": {
    "name": "ipython",
    "version": 3
   },
   "file_extension": ".py",
   "mimetype": "text/x-python",
   "name": "python",
   "nbconvert_exporter": "python",
   "pygments_lexer": "ipython3",
   "version": "3.10.15"
  }
 },
 "nbformat": 4,
 "nbformat_minor": 2
}
